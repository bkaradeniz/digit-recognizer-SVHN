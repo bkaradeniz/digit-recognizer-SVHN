{
  "nbformat": 4,
  "nbformat_minor": 0,
  "metadata": {
    "colab": {
      "name": "StatisticalLearning-SVHN-BerkdenizKaradeniz.ipynb",
      "provenance": [],
      "collapsed_sections": [
        "w9Pq7SvjntsU"
      ],
      "authorship_tag": "ABX9TyOtnMFLZkzK2jBIElGz3ygN",
      "include_colab_link": true
    },
    "kernelspec": {
      "name": "python3",
      "display_name": "Python 3"
    },
    "accelerator": "GPU"
  },
  "cells": [
    {
      "cell_type": "markdown",
      "metadata": {
        "id": "view-in-github",
        "colab_type": "text"
      },
      "source": [
        "<a href=\"https://colab.research.google.com/github/bkaradeniz/digit-recognizer-SVHN/blob/master/StatisticalLearning_SVHN.ipynb\" target=\"_parent\"><img src=\"https://colab.research.google.com/assets/colab-badge.svg\" alt=\"Open In Colab\"/></a>"
      ]
    },
    {
      "cell_type": "code",
      "metadata": {
        "id": "rXtzGP97dKvK",
        "colab_type": "code",
        "colab": {}
      },
      "source": [
        "import tensorflow.compat.v2 as tf\n",
        "import tensorflow_datasets as tfds\n",
        "from tensorflow.keras import layers, models, applications\n",
        "import matplotlib.pyplot as plt\n",
        "import scipy.io as spio\n",
        "from scipy.io import loadmat\n",
        "import numpy as np\n",
        "from tensorflow.keras.preprocessing.image import random_rotation, random_shift, random_zoom\n",
        "\n",
        "tfds.disable_progress_bar()\n",
        "tf.enable_v2_behavior()"
      ],
      "execution_count": null,
      "outputs": []
    },
    {
      "cell_type": "markdown",
      "metadata": {
        "id": "x9OkmzvVRyX0",
        "colab_type": "text"
      },
      "source": [
        "# Function definitions"
      ]
    },
    {
      "cell_type": "code",
      "metadata": {
        "id": "uUzrd_0-Bb2J",
        "colab_type": "code",
        "colab": {}
      },
      "source": [
        "#cast and normalize the image to [0,1]\n",
        "\n",
        "def normalize_img(image, label):\n",
        "  \"\"\"Normalizes images: `uint8` -> `float32`.\"\"\"\n",
        "  return tf.cast(image, tf.float32) / 255, label"
      ],
      "execution_count": null,
      "outputs": []
    },
    {
      "cell_type": "code",
      "metadata": {
        "id": "3ilo2wWIS61P",
        "colab_type": "code",
        "colab": {}
      },
      "source": [
        "#data augmention\n",
        "\n",
        "def augment(image,label):\n",
        "  image,label = normalize_img(image, label)\n",
        "  image = tf.image.convert_image_dtype(image, tf.float32) \n",
        "  image = tf.image.random_brightness(image, 0.2)\n",
        "  image = tf.image.random_flip_left_right(image, 5)\n",
        "  image = tf.image.random_flip_up_down(image, 3)\n",
        "\n",
        "  return image,label"
      ],
      "execution_count": null,
      "outputs": []
    },
    {
      "cell_type": "code",
      "metadata": {
        "id": "GfsaJ2amdN2H",
        "colab_type": "code",
        "colab": {}
      },
      "source": [
        "#load the dataset and prepare pipelines\n",
        "\n",
        "def getDataset():\n",
        "  (ds_train, ds_test), ds_info = tfds.load(\n",
        "      'svhn_cropped',\n",
        "      split=['extra', 'test'],\n",
        "      shuffle_files=True,\n",
        "      as_supervised=True,\n",
        "      with_info=True)\n",
        "  return ds_train, ds_test, ds_info\n",
        "\n",
        "def getTrain(ds_train):\n",
        "  ds_train = ds_train.map(\n",
        "      normalize_img, num_parallel_calls=tf.data.experimental.AUTOTUNE)\n",
        "  #ds_train = ds_train.cache()\n",
        "  ds_train = ds_train.shuffle(ds_info.splits['extra'].num_examples)\n",
        "  ds_train = ds_train.batch(800)\n",
        "  ds_train = ds_train.prefetch(tf.data.experimental.AUTOTUNE)\n",
        "  return ds_train\n",
        "\n",
        "def getTest(ds_test):\n",
        "  ds_test = ds_test.map(\n",
        "      normalize_img, num_parallel_calls=tf.data.experimental.AUTOTUNE)\n",
        "  ds_test = ds_test.batch(800)\n",
        "  ds_test = ds_test.cache()\n",
        "  ds_test = ds_test.prefetch(tf.data.experimental.AUTOTUNE)\n",
        "  return ds_test\n",
        "\n",
        "def getAugmented(ds_train):  \n",
        "  ds_train_aug = ds_train.map(\n",
        "      normalize_img, num_parallel_calls=tf.data.experimental.AUTOTUNE)\n",
        "  #ds_train_aug = ds_train_aug.cache()\n",
        "  ds_train_aug = ds_train_aug.map(\n",
        "      augment, num_parallel_calls=tf.data.experimental.AUTOTUNE)\n",
        "  ds_train_aug = ds_train_aug.shuffle(ds_info.splits['extra'].num_examples)\n",
        "  ds_train_aug = ds_train_aug.batch(800)\n",
        "  ds_train_aug = ds_train_aug.prefetch(tf.data.experimental.AUTOTUNE)\n",
        "  return  ds_train_aug"
      ],
      "execution_count": null,
      "outputs": []
    },
    {
      "cell_type": "markdown",
      "metadata": {
        "id": "0if80VIkSDdQ",
        "colab_type": "text"
      },
      "source": [
        "# Feedforward network prep and results"
      ]
    },
    {
      "cell_type": "code",
      "metadata": {
        "id": "NykVVMTWfacM",
        "colab_type": "code",
        "colab": {}
      },
      "source": [
        "#create the feedforward model\n",
        "\n",
        "model1 = tf.keras.models.Sequential([\n",
        "      tf.keras.layers.Flatten(input_shape=(32, 32, 3)),\n",
        "      tf.keras.layers.BatchNormalization(),\n",
        "      tf.keras.layers.Dense(120),\n",
        "      tf.keras.layers.Dropout(0.1),\n",
        "      tf.keras.layers.BatchNormalization(),\n",
        "      tf.keras.layers.Activation('relu'),\n",
        "      \n",
        "      tf.keras.layers.Dense(100),\n",
        "      tf.keras.layers.Dropout(0.1),\n",
        "      tf.keras.layers.BatchNormalization(),\n",
        "      tf.keras.layers.Activation('relu'),\n",
        "      \n",
        "      tf.keras.layers.Dense(60),\n",
        "      tf.keras.layers.Dropout(0.1),\n",
        "      tf.keras.layers.BatchNormalization(),\n",
        "      tf.keras.layers.Activation('relu'),\n",
        "      tf.keras.layers.Dropout(0.1),\n",
        "      tf.keras.layers.Dense(10, activation='softmax')\n",
        "      ])"
      ],
      "execution_count": null,
      "outputs": []
    },
    {
      "cell_type": "code",
      "metadata": {
        "id": "XD0fNojqXNIN",
        "colab_type": "code",
        "colab": {}
      },
      "source": [
        "model1.compile(\n",
        "    loss='sparse_categorical_crossentropy',\n",
        "    optimizer=tf.keras.optimizers.Adam(0.001),\n",
        "    metrics=['accuracy'])\n"
      ],
      "execution_count": null,
      "outputs": []
    },
    {
      "cell_type": "markdown",
      "metadata": {
        "id": "9EhsMBUzS_Wc",
        "colab_type": "text"
      },
      "source": [
        "**Load the dataset**"
      ]
    },
    {
      "cell_type": "code",
      "metadata": {
        "id": "UMuihvelTFA4",
        "colab_type": "code",
        "colab": {}
      },
      "source": [
        "ds_train, ds_test, ds_info = getDataset()"
      ],
      "execution_count": null,
      "outputs": []
    },
    {
      "cell_type": "code",
      "metadata": {
        "id": "PUGJFeHEykmi",
        "colab_type": "code",
        "colab": {}
      },
      "source": [
        "#prepare data\n",
        "\n",
        "ds_train = getTrain(ds_train)\n",
        "ds_test = getTest(ds_test)"
      ],
      "execution_count": null,
      "outputs": []
    },
    {
      "cell_type": "markdown",
      "metadata": {
        "id": "SSYib-RWStVR",
        "colab_type": "text"
      },
      "source": [
        "**Run for 15 Epochs**"
      ]
    },
    {
      "cell_type": "code",
      "metadata": {
        "id": "EJT3VDR5Nqvn",
        "colab_type": "code",
        "colab": {
          "base_uri": "https://localhost:8080/",
          "height": 527
        },
        "outputId": "434baaac-27f1-4522-a051-0dece47cbd80"
      },
      "source": [
        "history = model1.fit(ds_train, epochs=15 ,validation_data = ds_test)"
      ],
      "execution_count": null,
      "outputs": [
        {
          "output_type": "stream",
          "text": [
            "Epoch 1/15\n",
            "664/664 [==============================] - 18s 28ms/step - loss: 0.7664 - accuracy: 0.7622 - val_loss: 0.6676 - val_accuracy: 0.7986\n",
            "Epoch 2/15\n",
            "664/664 [==============================] - 12s 17ms/step - loss: 0.4180 - accuracy: 0.8724 - val_loss: 0.5783 - val_accuracy: 0.8248\n",
            "Epoch 3/15\n",
            "664/664 [==============================] - 11s 16ms/step - loss: 0.3586 - accuracy: 0.8911 - val_loss: 0.5228 - val_accuracy: 0.8441\n",
            "Epoch 4/15\n",
            "664/664 [==============================] - 11s 17ms/step - loss: 0.3289 - accuracy: 0.8999 - val_loss: 0.5238 - val_accuracy: 0.8449\n",
            "Epoch 5/15\n",
            "664/664 [==============================] - 11s 16ms/step - loss: 0.3095 - accuracy: 0.9058 - val_loss: 0.5005 - val_accuracy: 0.8530\n",
            "Epoch 6/15\n",
            "664/664 [==============================] - 11s 17ms/step - loss: 0.2959 - accuracy: 0.9101 - val_loss: 0.4775 - val_accuracy: 0.8564\n",
            "Epoch 7/15\n",
            "664/664 [==============================] - 11s 17ms/step - loss: 0.2848 - accuracy: 0.9140 - val_loss: 0.4507 - val_accuracy: 0.8676\n",
            "Epoch 8/15\n",
            "664/664 [==============================] - 11s 17ms/step - loss: 0.2744 - accuracy: 0.9166 - val_loss: 0.4655 - val_accuracy: 0.8617\n",
            "Epoch 9/15\n",
            "664/664 [==============================] - 11s 17ms/step - loss: 0.2673 - accuracy: 0.9188 - val_loss: 0.4394 - val_accuracy: 0.8701\n",
            "Epoch 10/15\n",
            "664/664 [==============================] - 11s 17ms/step - loss: 0.2632 - accuracy: 0.9205 - val_loss: 0.4395 - val_accuracy: 0.8711\n",
            "Epoch 11/15\n",
            "664/664 [==============================] - 11s 17ms/step - loss: 0.2564 - accuracy: 0.9226 - val_loss: 0.4337 - val_accuracy: 0.8732\n",
            "Epoch 12/15\n",
            "664/664 [==============================] - 11s 16ms/step - loss: 0.2527 - accuracy: 0.9234 - val_loss: 0.4283 - val_accuracy: 0.8745\n",
            "Epoch 13/15\n",
            "664/664 [==============================] - 11s 17ms/step - loss: 0.2488 - accuracy: 0.9244 - val_loss: 0.4078 - val_accuracy: 0.8807\n",
            "Epoch 14/15\n",
            "664/664 [==============================] - 11s 17ms/step - loss: 0.2451 - accuracy: 0.9257 - val_loss: 0.4117 - val_accuracy: 0.8802\n",
            "Epoch 15/15\n",
            "664/664 [==============================] - 12s 17ms/step - loss: 0.2412 - accuracy: 0.9271 - val_loss: 0.4159 - val_accuracy: 0.8793\n"
          ],
          "name": "stdout"
        }
      ]
    },
    {
      "cell_type": "markdown",
      "metadata": {
        "id": "ER0Pbz3vSllF",
        "colab_type": "text"
      },
      "source": [
        "**Line graphs for validation and loss**"
      ]
    },
    {
      "cell_type": "code",
      "metadata": {
        "id": "VqEkR0Zxenf3",
        "colab_type": "code",
        "colab": {
          "base_uri": "https://localhost:8080/",
          "height": 350
        },
        "outputId": "58e5f471-b151-4b0d-b145-764398234209"
      },
      "source": [
        "acc = history.history['accuracy']\n",
        "val_acc = history.history['val_accuracy']\n",
        "\n",
        "loss = history.history['loss']\n",
        "val_loss = history.history['val_loss']\n",
        "\n",
        "plt.figure(figsize=(15, 5))\n",
        "plt.subplot(1, 2, 1)\n",
        "plt.plot(acc, label='Training Accuracy')\n",
        "plt.plot(val_acc, label='Validation Accuracy')\n",
        "plt.legend(loc='lower right')\n",
        "plt.ylabel('Accuracy')\n",
        "plt.ylim([min(plt.ylim()),1])\n",
        "plt.title('Training and Validation Accuracy')\n",
        "\n",
        "plt.subplot(1, 2, 2)\n",
        "plt.plot(loss, label='Training Loss')\n",
        "plt.plot(val_loss, label='Validation Loss')\n",
        "plt.legend(loc='upper right')\n",
        "plt.ylabel('Loss')\n",
        "plt.ylim([0,1.0])\n",
        "plt.title('Training and Validation Loss')\n",
        "plt.xlabel('epoch')\n",
        "plt.show()\n",
        "\n",
        "print(\"CNN model1: Epochs=15, Train accuracy={0:.5f}, Validation accuracy={1:.5f}\".format(\n",
        "        max(history.history['accuracy']),max(history.history['val_accuracy']) ))"
      ],
      "execution_count": null,
      "outputs": [
        {
          "output_type": "display_data",
          "data": {
            "image/png": "[encoded data removed]",
            "text/plain": [
              "<Figure size 1080x360 with 2 Axes>"
            ]
          },
          "metadata": {
            "tags": [],
            "needs_background": "light"
          }
        }
      ]
    },
    {
      "cell_type": "markdown",
      "metadata": {
        "id": "GfjHq0ofoHjw",
        "colab_type": "text"
      },
      "source": [
        "# Convolutional Neural Net"
      ]
    },
    {
      "cell_type": "code",
      "metadata": {
        "id": "DpyoZxibffT-",
        "colab_type": "code",
        "colab": {}
      },
      "source": [
        "#create the model\n",
        "\n",
        "model2 = models.Sequential(name='model2')\n",
        "\n",
        "model2.add(layers.Conv2D(32,kernel_size=3,activation='relu',input_shape=(32,32,3)))\n",
        "model2.add(layers.BatchNormalization())\n",
        "model2.add(layers.Conv2D(32,kernel_size=3, activation='relu'))\n",
        "model2.add(layers.BatchNormalization())\n",
        "model2.add(layers.Conv2D(32,kernel_size=5,strides=2,padding='same', activation='relu'))\n",
        "model2.add(layers.BatchNormalization())\n",
        "model2.add(layers.Dropout(0.2))\n",
        "\n",
        "model2.add(layers.Conv2D(64,kernel_size=3, activation='relu'))\n",
        "model2.add(layers.BatchNormalization())\n",
        "model2.add(layers.Conv2D(64,kernel_size=3, activation='relu'))\n",
        "model2.add(layers.BatchNormalization())\n",
        "model2.add(layers.Conv2D(64,kernel_size=5,strides=2,padding='same', activation='relu'))\n",
        "model2.add(layers.BatchNormalization())\n",
        "model2.add(layers.Dropout(0.2))\n",
        "\n",
        "model2.add(layers.Flatten())\n",
        "model2.add(layers.Dense(256, activation='relu'))\n",
        "model2.add(layers.BatchNormalization())\n",
        "model2.add(layers.Dropout(0.2))\n",
        "model2.add(layers.Dense(10, activation='softmax'))"
      ],
      "execution_count": null,
      "outputs": []
    },
    {
      "cell_type": "code",
      "metadata": {
        "id": "duJNbbdtH3Iq",
        "colab_type": "code",
        "colab": {}
      },
      "source": [
        "model2.compile(\n",
        "    loss='sparse_categorical_crossentropy',\n",
        "    optimizer=tf.keras.optimizers.Adam(0.001),\n",
        "    metrics=['accuracy'])"
      ],
      "execution_count": null,
      "outputs": []
    },
    {
      "cell_type": "code",
      "metadata": {
        "id": "e1nkoMEeH-zp",
        "colab_type": "code",
        "colab": {}
      },
      "source": [
        "#Prepare data for non-augmented run\n",
        "\n",
        "ds_train, ds_test, ds_info = getDataset()  \n",
        "\n",
        "ds_train = getTrain(ds_train) \n",
        "ds_test = getTest(ds_test)                  "
      ],
      "execution_count": null,
      "outputs": []
    },
    {
      "cell_type": "markdown",
      "metadata": {
        "id": "Lj5hGE-EOdfE",
        "colab_type": "text"
      },
      "source": [
        "**Apply with 15 epochs**"
      ]
    },
    {
      "cell_type": "code",
      "metadata": {
        "id": "S2FfXR7Gn4Sl",
        "colab_type": "code",
        "colab": {
          "base_uri": "https://localhost:8080/",
          "height": 527
        },
        "outputId": "a3b86087-efb5-4817-b4c0-48d599bfd887"
      },
      "source": [
        "history2 = model2.fit(ds_train, epochs=15, validation_data = ds_test)"
      ],
      "execution_count": null,
      "outputs": [
        {
          "output_type": "stream",
          "text": [
            "Epoch 1/15\n",
            "664/664 [==============================] - 110s 166ms/step - loss: 0.2328 - accuracy: 0.9302 - val_loss: 0.2249 - val_accuracy: 0.9371\n",
            "Epoch 2/15\n",
            "664/664 [==============================] - 104s 156ms/step - loss: 0.0932 - accuracy: 0.9739 - val_loss: 0.2000 - val_accuracy: 0.9461\n",
            "Epoch 3/15\n",
            "664/664 [==============================] - 104s 156ms/step - loss: 0.0738 - accuracy: 0.9799 - val_loss: 0.1789 - val_accuracy: 0.9530\n",
            "Epoch 4/15\n",
            "664/664 [==============================] - 103s 156ms/step - loss: 0.0641 - accuracy: 0.9825 - val_loss: 0.1617 - val_accuracy: 0.9587\n",
            "Epoch 5/15\n",
            "664/664 [==============================] - 103s 156ms/step - loss: 0.0582 - accuracy: 0.9842 - val_loss: 0.1715 - val_accuracy: 0.9548\n",
            "Epoch 6/15\n",
            "664/664 [==============================] - 103s 156ms/step - loss: 0.0528 - accuracy: 0.9857 - val_loss: 0.1443 - val_accuracy: 0.9646\n",
            "Epoch 7/15\n",
            "664/664 [==============================] - 103s 155ms/step - loss: 0.0488 - accuracy: 0.9868 - val_loss: 0.1462 - val_accuracy: 0.9647\n",
            "Epoch 8/15\n",
            "664/664 [==============================] - 103s 155ms/step - loss: 0.0451 - accuracy: 0.9877 - val_loss: 0.1486 - val_accuracy: 0.9630\n",
            "Epoch 9/15\n",
            "664/664 [==============================] - 103s 155ms/step - loss: 0.0420 - accuracy: 0.9884 - val_loss: 0.1589 - val_accuracy: 0.9601\n",
            "Epoch 10/15\n",
            "664/664 [==============================] - 103s 155ms/step - loss: 0.0385 - accuracy: 0.9895 - val_loss: 0.1613 - val_accuracy: 0.9606\n",
            "Epoch 11/15\n",
            "664/664 [==============================] - 103s 155ms/step - loss: 0.0358 - accuracy: 0.9900 - val_loss: 0.1478 - val_accuracy: 0.9651\n",
            "Epoch 12/15\n",
            "664/664 [==============================] - 103s 155ms/step - loss: 0.0334 - accuracy: 0.9907 - val_loss: 0.1529 - val_accuracy: 0.9650\n",
            "Epoch 13/15\n",
            "664/664 [==============================] - 102s 154ms/step - loss: 0.0313 - accuracy: 0.9911 - val_loss: 0.1455 - val_accuracy: 0.9672\n",
            "Epoch 14/15\n",
            "664/664 [==============================] - 103s 154ms/step - loss: 0.0287 - accuracy: 0.9919 - val_loss: 0.1600 - val_accuracy: 0.9632\n",
            "Epoch 15/15\n",
            "664/664 [==============================] - 103s 154ms/step - loss: 0.0270 - accuracy: 0.9923 - val_loss: 0.1752 - val_accuracy: 0.9595\n"
          ],
          "name": "stdout"
        }
      ]
    },
    {
      "cell_type": "markdown",
      "metadata": {
        "id": "mEuxl5s6OHQe",
        "colab_type": "text"
      },
      "source": [
        "**Line graphs for accuracy and loss**"
      ]
    },
    {
      "cell_type": "code",
      "metadata": {
        "id": "JZ9Enq4rN6ed",
        "colab_type": "code",
        "colab": {
          "base_uri": "https://localhost:8080/",
          "height": 367
        },
        "outputId": "c5277a0a-3379-4126-b966-3e7941d25be2"
      },
      "source": [
        "acc = history2.history['accuracy']\n",
        "val_acc = history2.history['val_accuracy']\n",
        "\n",
        "loss = history2.history['loss']\n",
        "val_loss = history2.history['val_loss']\n",
        "\n",
        "plt.figure(figsize=(15, 5))\n",
        "plt.subplot(1, 2, 1)\n",
        "plt.plot(acc, label='Training Accuracy')\n",
        "plt.plot(val_acc, label='Validation Accuracy')\n",
        "plt.legend(loc='lower right')\n",
        "plt.ylabel('Accuracy')\n",
        "plt.ylim([min(plt.ylim()),1])\n",
        "plt.title('Training and Validation Accuracy')\n",
        "\n",
        "plt.subplot(1, 2, 2)\n",
        "plt.plot(loss, label='Training Loss')\n",
        "plt.plot(val_loss, label='Validation Loss')\n",
        "plt.legend(loc='upper right')\n",
        "plt.ylabel('Loss')\n",
        "plt.ylim([0,1.0])\n",
        "plt.title('Training and Validation Loss')\n",
        "plt.xlabel('epoch')\n",
        "plt.show()\n",
        "\n",
        "print(\"CNN model2: Epochs=15, Train accuracy={0:.5f}, Validation accuracy={1:.5f}\".format(\n",
        "        max(history.history['accuracy']),max(history.history['val_accuracy']) ))"
      ],
      "execution_count": null,
      "outputs": [
        {
          "output_type": "display_data",
          "data": {
            "image/png": "[encoded data removed]",
            "text/plain": [
              "<Figure size 1080x360 with 2 Axes>"
            ]
          },
          "metadata": {
            "tags": [],
            "needs_background": "light"
          }
        },
        {
          "output_type": "stream",
          "text": [
            "CNN model2: Epochs=15, Train accuracy=0.92708, Validation accuracy=0.88072\n"
          ],
          "name": "stdout"
        }
      ]
    },
    {
      "cell_type": "markdown",
      "metadata": {
        "id": "6V1QZIf3RICX",
        "colab_type": "text"
      },
      "source": [
        "# Data Augmentation"
      ]
    },
    {
      "cell_type": "code",
      "metadata": {
        "id": "X-19OtCNmIgk",
        "colab_type": "code",
        "colab": {}
      },
      "source": [
        "#create the model\n",
        "\n",
        "model3 = models.Sequential(name='model2')\n",
        "\n",
        "model3.add(layers.Conv2D(32,kernel_size=3,activation='relu',input_shape=(32,32,3)))\n",
        "model3.add(layers.BatchNormalization())\n",
        "model3.add(layers.Conv2D(32,kernel_size=3, activation='relu'))\n",
        "model3.add(layers.BatchNormalization())\n",
        "model3.add(layers.Conv2D(32,kernel_size=5,strides=2,padding='same', activation='relu'))\n",
        "model3.add(layers.BatchNormalization())\n",
        "model3.add(layers.Dropout(0.2))\n",
        "\n",
        "model3.add(layers.Conv2D(64,kernel_size=3, activation='relu'))\n",
        "model3.add(layers.BatchNormalization())\n",
        "model3.add(layers.Conv2D(64,kernel_size=3, activation='relu'))\n",
        "model3.add(layers.BatchNormalization())\n",
        "model3.add(layers.Conv2D(64,kernel_size=5,strides=2,padding='same', activation='relu'))\n",
        "model3.add(layers.BatchNormalization())\n",
        "model3.add(layers.Dropout(0.2))\n",
        "\n",
        "model3.add(layers.Flatten())\n",
        "model3.add(layers.Dense(256, activation='relu'))\n",
        "model3.add(layers.BatchNormalization())\n",
        "model3.add(layers.Dropout(0.2))\n",
        "model3.add(layers.Dense(10, activation='softmax'))\n",
        "\n",
        "model3.compile(\n",
        "    loss='sparse_categorical_crossentropy',\n",
        "    optimizer=tf.keras.optimizers.Adam(0.001),\n",
        "    metrics=['accuracy'])"
      ],
      "execution_count": null,
      "outputs": []
    },
    {
      "cell_type": "code",
      "metadata": {
        "id": "ix_WYU3HRGq5",
        "colab_type": "code",
        "colab": {}
      },
      "source": [
        "#prepare data\n",
        "\n",
        "ds_train, ds_test, ds_info = getDataset()  \n",
        "\n",
        "ds_train_aug = getAugmented(ds_train)\n",
        "ds_test = getTest(ds_test)  "
      ],
      "execution_count": null,
      "outputs": []
    },
    {
      "cell_type": "markdown",
      "metadata": {
        "id": "zQQ51i9_Oqhh",
        "colab_type": "text"
      },
      "source": [
        "\n",
        "**Apply with augmented data**"
      ]
    },
    {
      "cell_type": "code",
      "metadata": {
        "id": "SHypJ1KdRgum",
        "colab_type": "code",
        "colab": {
          "base_uri": "https://localhost:8080/",
          "height": 527
        },
        "outputId": "038622a4-2974-4705-c124-4e3a8562db53"
      },
      "source": [
        "history3 = model3.fit(ds_train_aug, epochs=15, validation_data = ds_test)"
      ],
      "execution_count": null,
      "outputs": [
        {
          "output_type": "stream",
          "text": [
            "Epoch 1/15\n",
            "664/664 [==============================] - 110s 165ms/step - loss: 2.3471 - accuracy: 0.1461 - val_loss: 3.0968 - val_accuracy: 0.1924\n",
            "Epoch 2/15\n",
            "664/664 [==============================] - 102s 153ms/step - loss: 2.2692 - accuracy: 0.1639 - val_loss: 2.3402 - val_accuracy: 0.1287\n",
            "Epoch 3/15\n",
            "664/664 [==============================] - 102s 154ms/step - loss: 2.2619 - accuracy: 0.1679 - val_loss: 5.3632 - val_accuracy: 0.1600\n",
            "Epoch 4/15\n",
            "664/664 [==============================] - 101s 153ms/step - loss: 2.2609 - accuracy: 0.1683 - val_loss: 3.5970 - val_accuracy: 0.1021\n",
            "Epoch 5/15\n",
            "664/664 [==============================] - 102s 153ms/step - loss: 2.2600 - accuracy: 0.1682 - val_loss: 2.8729 - val_accuracy: 0.1366\n",
            "Epoch 6/15\n",
            "664/664 [==============================] - 102s 153ms/step - loss: 2.2593 - accuracy: 0.1684 - val_loss: 2.2991 - val_accuracy: 0.1318\n",
            "Epoch 7/15\n",
            "664/664 [==============================] - 101s 153ms/step - loss: 2.2589 - accuracy: 0.1693 - val_loss: 2.2867 - val_accuracy: 0.1959\n",
            "Epoch 8/15\n",
            "664/664 [==============================] - 102s 153ms/step - loss: 2.2584 - accuracy: 0.1694 - val_loss: 2.2524 - val_accuracy: 0.1601\n",
            "Epoch 9/15\n",
            "664/664 [==============================] - 101s 152ms/step - loss: 2.2579 - accuracy: 0.1693 - val_loss: 2.2340 - val_accuracy: 0.1925\n",
            "Epoch 10/15\n",
            "664/664 [==============================] - 101s 152ms/step - loss: 2.2572 - accuracy: 0.1695 - val_loss: 2.2434 - val_accuracy: 0.1959\n",
            "Epoch 11/15\n",
            "664/664 [==============================] - 100s 151ms/step - loss: 2.2566 - accuracy: 0.1700 - val_loss: 2.2297 - val_accuracy: 0.1959\n",
            "Epoch 12/15\n",
            "664/664 [==============================] - 101s 151ms/step - loss: 2.2562 - accuracy: 0.1702 - val_loss: 2.2303 - val_accuracy: 0.1959\n",
            "Epoch 13/15\n",
            "664/664 [==============================] - 101s 152ms/step - loss: 2.2558 - accuracy: 0.1704 - val_loss: 2.2286 - val_accuracy: 0.1959\n",
            "Epoch 14/15\n",
            "664/664 [==============================] - 100s 151ms/step - loss: 2.2555 - accuracy: 0.1704 - val_loss: 2.2489 - val_accuracy: 0.1694\n",
            "Epoch 15/15\n",
            "664/664 [==============================] - 100s 151ms/step - loss: 2.2554 - accuracy: 0.1705 - val_loss: 2.2296 - val_accuracy: 0.1959\n"
          ],
          "name": "stdout"
        }
      ]
    },
    {
      "cell_type": "markdown",
      "metadata": {
        "id": "unNtDVudPIzL",
        "colab_type": "text"
      },
      "source": [
        "**Line graphs for augmented experiment**"
      ]
    },
    {
      "cell_type": "code",
      "metadata": {
        "id": "kmzDxEqFPIMi",
        "colab_type": "code",
        "colab": {
          "base_uri": "https://localhost:8080/",
          "height": 367
        },
        "outputId": "6301053b-6a0b-48ea-b99b-0170f567786b"
      },
      "source": [
        "acc = history3.history['accuracy']\n",
        "val_acc = history3.history['val_accuracy']\n",
        "\n",
        "loss = history3.history['loss']\n",
        "val_loss = history3.history['val_loss']\n",
        "\n",
        "plt.figure(figsize=(15, 5))\n",
        "plt.subplot(1, 2, 1)\n",
        "plt.plot(acc, label='Training Accuracy')\n",
        "plt.plot(val_acc, label='Validation Accuracy')\n",
        "plt.legend(loc='lower right')\n",
        "plt.ylabel('Accuracy')\n",
        "plt.ylim([min(plt.ylim()),1])\n",
        "plt.title('Training and Validation Accuracy')\n",
        "\n",
        "plt.subplot(1, 2, 2)\n",
        "plt.plot(loss, label='Training Loss')\n",
        "plt.plot(val_loss, label='Validation Loss')\n",
        "plt.legend(loc='upper right')\n",
        "plt.ylabel('Loss')\n",
        "plt.ylim([0,3.0])\n",
        "plt.title('Training and Validation Loss')\n",
        "plt.xlabel('epoch')\n",
        "plt.show()\n",
        "\n",
        "print(\"CNN-Augmented model3: Epochs=15, Train accuracy={0:.5f}, Validation accuracy={1:.5f}\".format(\n",
        "        max(history.history['accuracy']),max(history.history['val_accuracy']) ))"
      ],
      "execution_count": null,
      "outputs": [
        {
          "output_type": "display_data",
          "data": {
            "image/png": "[encoded data removed]",
            "text/plain": [
              "<Figure size 1080x360 with 2 Axes>"
            ]
          },
          "metadata": {
            "tags": [],
            "needs_background": "light"
          }
        },
        {
          "output_type": "stream",
          "text": [
            "CNN-Augmented model3: Epochs=15, Train accuracy=0.92708, Validation accuracy=0.88072\n"
          ],
          "name": "stdout"
        }
      ]
    },
    {
      "cell_type": "markdown",
      "metadata": {
        "id": "g1vXsDKfPYzz",
        "colab_type": "text"
      },
      "source": [
        "**Line graphs for comparison between augmented & non-augmented data**"
      ]
    },
    {
      "cell_type": "code",
      "metadata": {
        "id": "hy-s-cUgPX-s",
        "colab_type": "code",
        "colab": {
          "base_uri": "https://localhost:8080/",
          "height": 350
        },
        "outputId": "eeed1a7d-4fcc-4292-bfa5-614f436e126c"
      },
      "source": [
        "val_acc = history2.history['val_accuracy']\n",
        "val_acc_aug = history3.history['val_accuracy']\n",
        "\n",
        "val_loss = history2.history['val_loss']\n",
        "val_loss_aug = history3.history['val_loss']\n",
        "\n",
        "plt.figure(figsize=(15, 5))\n",
        "plt.subplot(1, 2, 1)\n",
        "plt.plot(acc, label='Non-Aug Accuracy')\n",
        "plt.plot(val_acc, label='Augmented Accuracy')\n",
        "plt.legend(loc='lower right')\n",
        "plt.ylabel('Accuracy')\n",
        "plt.ylim([min(plt.ylim()),3])\n",
        "plt.title('Validation Accuracy')\n",
        "\n",
        "plt.subplot(1, 2, 2)\n",
        "plt.plot(loss, label='Training Loss')\n",
        "plt.plot(val_loss, label='Validation Loss')\n",
        "plt.legend(loc='upper right')\n",
        "plt.ylabel('Loss')\n",
        "plt.ylim([0,3.0])\n",
        "plt.title('Validation Loss')\n",
        "plt.xlabel('epoch')\n",
        "plt.show()"
      ],
      "execution_count": null,
      "outputs": [
        {
          "output_type": "display_data",
          "data": {
            "image/png": "[encoded data removed]",
            "text/plain": [
              "<Figure size 1080x360 with 2 Axes>"
            ]
          },
          "metadata": {
            "tags": [],
            "needs_background": "light"
          }
        }
      ]
    },
    {
      "cell_type": "markdown",
      "metadata": {
        "id": "TlJoer6tguGM",
        "colab_type": "text"
      },
      "source": [
        "# Prediction comparions between Feedforward and Convolutional models"
      ]
    },
    {
      "cell_type": "code",
      "metadata": {
        "id": "_5WMt-HvaCMB",
        "colab_type": "code",
        "colab": {
          "base_uri": "https://localhost:8080/",
          "height": 34
        },
        "outputId": "8556aebe-5223-4a38-dd17-0cc37abf73d0"
      },
      "source": [
        "predictions1 = np.argmax(model1.predict(ds_test), axis=-1)\n",
        "predictions1"
      ],
      "execution_count": null,
      "outputs": [
        {
          "output_type": "execute_result",
          "data": {
            "text/plain": [
              "array([2, 7, 2, ..., 3, 5, 1])"
            ]
          },
          "metadata": {
            "tags": []
          },
          "execution_count": 82
        }
      ]
    },
    {
      "cell_type": "code",
      "metadata": {
        "id": "dQl6-OtLYwJ9",
        "colab_type": "code",
        "colab": {
          "base_uri": "https://localhost:8080/",
          "height": 34
        },
        "outputId": "14fba35b-3bbe-4f3e-863d-5452a0919d67"
      },
      "source": [
        "predictions2 = np.argmax(model1.predict(ds_test), axis=-1)\n",
        "predictions2"
      ],
      "execution_count": null,
      "outputs": [
        {
          "output_type": "execute_result",
          "data": {
            "text/plain": [
              "array([2, 7, 2, ..., 3, 5, 1])"
            ]
          },
          "metadata": {
            "tags": []
          },
          "execution_count": 53
        }
      ]
    },
    {
      "cell_type": "code",
      "metadata": {
        "id": "AZ_zuHMucVDE",
        "colab_type": "code",
        "colab": {
          "base_uri": "https://localhost:8080/",
          "height": 34
        },
        "outputId": "af94da18-4e37-4313-9b9a-2b33c20a4b56"
      },
      "source": [
        "predBool = predictions1 == predictions2\n",
        "numTrue = 0\n",
        "numFalse = 0\n",
        "\n",
        "for elem in predBool:\n",
        "  if elem == True:\n",
        "    numTrue = numTrue + 1\n",
        "  else:\n",
        "    numFalse = numFalse + 1\n",
        "\n",
        "matching = numTrue / (numTrue + numFalse)\n",
        "print(\"The amount of match within predictions of two models:{0:.5f}\".format(matching))"
      ],
      "execution_count": null,
      "outputs": [
        {
          "output_type": "stream",
          "text": [
            "The amount of match within predictions of two models:0.87876\n"
          ],
          "name": "stdout"
        }
      ]
    }
  ]
}